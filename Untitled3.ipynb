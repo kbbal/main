{
 "cells": [
  {
   "cell_type": "code",
   "execution_count": 6,
   "id": "ea4c08ba-6b68-4e31-8d21-53e595c6a7ec",
   "metadata": {},
   "outputs": [
    {
     "name": "stdout",
     "output_type": "stream",
     "text": [
      "Alignment complete. Images saved as 'before_alignment.png' and 'after_alignment.png'.\n"
     ]
    }
   ],
   "source": [
    "import open3d as o3d\n",
    "import numpy as np\n",
    "import matplotlib.pyplot as plt\n",
    "\n",
    "# STLファイルのパス\n",
    "file_sample = \"sampleModel.stl\"  # 1つ目のSTLファイル\n",
    "file_test = \"test.stl\"           # 2つ目のSTLファイル\n",
    "\n",
    "# STLファイルを読み込み、点群に変換\n",
    "sample_pcd = o3d.io.read_triangle_mesh(file_sample).sample_points_uniformly(number_of_points=5000)\n",
    "test_pcd = o3d.io.read_triangle_mesh(file_test).sample_points_uniformly(number_of_points=5000)\n",
    "\n",
    "# 点群をプロットする関数\n",
    "def plot_point_clouds(source, target, title, filename):\n",
    "    source_points = np.asarray(source.points)\n",
    "    target_points = np.asarray(target.points)\n",
    "    \n",
    "    fig = plt.figure(figsize=(8, 8))\n",
    "    ax = fig.add_subplot(111, projection=\"3d\")\n",
    "    \n",
    "    ax.scatter(source_points[:, 0], source_points[:, 1], source_points[:, 2], s=1, c='r', label=\"Source\")\n",
    "    ax.scatter(target_points[:, 0], target_points[:, 1], target_points[:, 2], s=1, c='b', label=\"Target\")\n",
    "    \n",
    "    ax.set_title(title)\n",
    "    ax.legend()\n",
    "    plt.savefig(filename)\n",
    "    plt.close()\n",
    "\n",
    "# 位置合わせ前の点群をプロット\n",
    "plot_point_clouds(sample_pcd, test_pcd, \"Before Alignment\", \"before_alignment.png\")\n",
    "\n",
    "# 点群の前処理（FPFH特徴量計算）\n",
    "def preprocess_point_cloud(pcd, voxel_size):\n",
    "    pcd_down = pcd.voxel_down_sample(voxel_size)\n",
    "    pcd_down.estimate_normals(o3d.geometry.KDTreeSearchParamHybrid(radius=voxel_size * 2, max_nn=30))\n",
    "    fpfh = o3d.pipelines.registration.compute_fpfh_feature(\n",
    "        pcd_down,\n",
    "        o3d.geometry.KDTreeSearchParamHybrid(radius=voxel_size * 5, max_nn=100))\n",
    "    return pcd_down, fpfh\n",
    "\n",
    "# パラメータ設定\n",
    "voxel_size = 0.05\n",
    "\n",
    "# 点群をダウンサンプリングし、FPFH特徴量を計算\n",
    "sample_down, sample_fpfh = preprocess_point_cloud(sample_pcd, voxel_size)\n",
    "test_down, test_fpfh = preprocess_point_cloud(test_pcd, voxel_size)\n",
    "\n",
    "# FGR（Fast Global Registration）のオプション\n",
    "fgr_option = o3d.pipelines.registration.FastGlobalRegistrationOption(maximum_correspondence_distance=voxel_size * 2)\n",
    "\n",
    "# FGRを実行\n",
    "result_fgr = o3d.pipelines.registration.registration_fgr_based_on_feature_matching(\n",
    "    sample_down, test_down, sample_fpfh, test_fpfh, fgr_option)\n",
    "\n",
    "# 位置合わせ結果を適用\n",
    "sample_pcd.transform(result_fgr.transformation)\n",
    "\n",
    "# 位置合わせ後の点群をプロット\n",
    "plot_point_clouds(sample_pcd, test_pcd, \"After Alignment\", \"after_alignment.png\")\n",
    "\n",
    "print(\"Alignment complete. Images saved as 'before_alignment.png' and 'after_alignment.png'.\")\n",
    "\n",
    "\n",
    "\n"
   ]
  },
  {
   "cell_type": "code",
   "execution_count": 26,
   "id": "67e7090c-b294-4811-a351-59b3530d0dc8",
   "metadata": {},
   "outputs": [
    {
     "name": "stderr",
     "output_type": "stream",
     "text": [
      "'ls' は、内部コマンドまたは外部コマンド、\n",
      "操作可能なプログラムまたはバッチ ファイルとして認識されていません。\n"
     ]
    }
   ],
   "source": []
  },
  {
   "cell_type": "code",
   "execution_count": null,
   "id": "51c18061-daaf-47cf-aae5-549f4dc2f396",
   "metadata": {},
   "outputs": [],
   "source": []
  }
 ],
 "metadata": {
  "kernelspec": {
   "display_name": "Python 3 (ipykernel)",
   "language": "python",
   "name": "python3"
  },
  "language_info": {
   "codemirror_mode": {
    "name": "ipython",
    "version": 3
   },
   "file_extension": ".py",
   "mimetype": "text/x-python",
   "name": "python",
   "nbconvert_exporter": "python",
   "pygments_lexer": "ipython3",
   "version": "3.12.4"
  }
 },
 "nbformat": 4,
 "nbformat_minor": 5
}
